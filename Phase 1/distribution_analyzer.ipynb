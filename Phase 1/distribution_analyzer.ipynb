{
  "cells": [
    {
      "cell_type": "markdown",
      "metadata": {
        "id": "Ad5XuAfQNwVC"
      },
      "source": [
        "# Setup the environment"
      ]
    },
    {
      "cell_type": "code",
      "execution_count": null,
      "metadata": {},
      "outputs": [],
      "source": [
        "file_to_analyze = 'Courses/English-to-کوردی سۆرانی at A1-level Lesson Scripts (Tourism)/Lesson Distribution.json'"
      ]
    },
    {
      "cell_type": "code",
      "execution_count": null,
      "metadata": {
        "id": "4atm8pkhKjyc"
      },
      "outputs": [],
      "source": [
        "import json\n",
        "import matplotlib.pyplot as plt\n",
        "import seaborn as sns\n",
        "import pandas as pd\n",
        "from collections import Counter\n",
        "import numpy as np\n",
        "from sklearn.feature_extraction.text import CountVectorizer\n",
        "from sklearn.metrics.pairwise import cosine_similarity\n",
        "from wordcloud import WordCloud"
      ]
    },
    {
      "cell_type": "code",
      "execution_count": null,
      "metadata": {
        "id": "84lZjG_zKmvx"
      },
      "outputs": [],
      "source": [
        "# Load the JSON data\n",
        "with open(file_to_analyze, 'r', encoding=\"utf-8\") as file:\n",
        "    data = json.load(file)\n",
        "\n",
        "# Helper function to flatten lists\n",
        "def flatten(lst):\n",
        "    return [item for sublist in lst for item in sublist]"
      ]
    },
    {
      "cell_type": "code",
      "execution_count": null,
      "metadata": {
        "colab": {
          "base_uri": "https://localhost:8080/"
        },
        "id": "Cot83RYuKprQ",
        "outputId": "c5c95032-bd4c-4238-bedc-9ff6cb4ff14e"
      },
      "outputs": [],
      "source": [
        "# Extract all lessons from all topics\n",
        "all_lessons = flatten([topic['lessons'] for topic in data])\n",
        "\n",
        "total_unique_words = []\n",
        "total_unique_phrases = []\n",
        "total_unique_concepts = []\n",
        "for lesson in all_lessons:\n",
        "    words = lesson.get('words', [])\n",
        "    for word in words:\n",
        "      if word not in total_unique_words:\n",
        "        total_unique_words.append(word)\n",
        "    phrases = lesson.get('phrases', [])\n",
        "    for phrase in phrases:\n",
        "      if phrase not in total_unique_phrases:\n",
        "        total_unique_phrases.append(phrase)\n",
        "    concepts = lesson.get('concepts', [])\n",
        "    for concept in concepts:\n",
        "      if concept not in total_unique_concepts:\n",
        "        total_unique_concepts.append(concept)\n",
        "print(f\"Total unique words: {len(total_unique_words)}\")\n",
        "print(f\"Total unique phrases: {len(total_unique_phrases)}\")\n",
        "print(f\"Total unique concepts: {len(total_unique_concepts)}\")\n",
        "normal_lessons = [lesson for lesson in all_lessons if lesson['type'] == 'normal']"
      ]
    },
    {
      "cell_type": "markdown",
      "metadata": {
        "id": "3dJLTrg1N3b5"
      },
      "source": [
        "# Basic word/concept/phrase graphs"
      ]
    },
    {
      "cell_type": "code",
      "execution_count": null,
      "metadata": {
        "colab": {
          "base_uri": "https://localhost:8080/",
          "height": 564
        },
        "id": "3hwrR08uKyS8",
        "outputId": "8d2b39b2-2662-4179-b9ab-106eb9cd3c03"
      },
      "outputs": [],
      "source": [
        "# Word count per lesson\n",
        "plt.figure(figsize=(12, 6))\n",
        "word_counts = [len(lesson.get('words', [])) for lesson in all_lessons]\n",
        "plt.bar(range(1, len(word_counts) + 1), word_counts)\n",
        "plt.title('Word Count per Lesson')\n",
        "plt.xlabel('Lesson Number')\n",
        "plt.ylabel('Word Count')\n",
        "plt.show()"
      ]
    },
    {
      "cell_type": "code",
      "execution_count": null,
      "metadata": {
        "colab": {
          "base_uri": "https://localhost:8080/",
          "height": 564
        },
        "id": "MCQGuFBvLJ1D",
        "outputId": "83a7a8b4-1b1f-454d-ccd2-5dd373c4c337"
      },
      "outputs": [],
      "source": [
        "# Concept count per lesson\n",
        "plt.figure(figsize=(12, 6))\n",
        "concept_counts = [len(lesson.get('concepts', [])) for lesson in all_lessons]\n",
        "plt.bar(range(1, len(concept_counts) + 1), concept_counts)\n",
        "plt.title('Concept Count per Lesson')\n",
        "plt.xlabel('Lesson Number')\n",
        "plt.ylabel('Concept Count')\n",
        "plt.show()"
      ]
    },
    {
      "cell_type": "code",
      "execution_count": null,
      "metadata": {
        "colab": {
          "base_uri": "https://localhost:8080/",
          "height": 564
        },
        "id": "CmWJzPthLrEO",
        "outputId": "82e3a884-c64a-44e8-8b6e-183844a266a8"
      },
      "outputs": [],
      "source": [
        "# Word count distribution across topics\n",
        "topic_word_counts = [sum(len(lesson.get('words', [])) for lesson in topic['lessons']) for topic in data]\n",
        "plt.figure(figsize=(12, 6))\n",
        "plt.bar(range(1, len(topic_word_counts) + 1), topic_word_counts)\n",
        "plt.title('Total Word Count per Topic')\n",
        "plt.xlabel('Topic Number')\n",
        "plt.ylabel('Total Word Count')\n",
        "plt.show()"
      ]
    },
    {
      "cell_type": "code",
      "execution_count": null,
      "metadata": {
        "colab": {
          "base_uri": "https://localhost:8080/",
          "height": 564
        },
        "id": "cumpBiHTLQ_3",
        "outputId": "47ed00b5-4403-445e-fff0-e55fe27ff858"
      },
      "outputs": [],
      "source": [
        "# Cumulative word count over lessons\n",
        "cumulative_words = np.cumsum(word_counts)\n",
        "plt.figure(figsize=(12, 6))\n",
        "plt.plot(range(1, len(cumulative_words) + 1), cumulative_words, marker='o')\n",
        "plt.title('Cumulative Word Count over Lessons')\n",
        "plt.xlabel('Lesson Number')\n",
        "plt.ylabel('Cumulative Word Count')\n",
        "plt.show()"
      ]
    },
    {
      "cell_type": "code",
      "execution_count": null,
      "metadata": {
        "colab": {
          "base_uri": "https://localhost:8080/",
          "height": 564
        },
        "id": "u20b5aVCLgnN",
        "outputId": "b933b1a2-770a-4c60-f3c9-de3043a73c7a"
      },
      "outputs": [],
      "source": [
        "# Word length distribution\n",
        "all_words = flatten([lesson.get('words', []) for lesson in all_lessons])\n",
        "word_lengths = [len(word) for word in all_words]\n",
        "plt.figure(figsize=(12, 6))\n",
        "sns.histplot(word_lengths, kde=True, bins=20)\n",
        "plt.title('Distribution of Word Character Lengths')\n",
        "plt.xlabel('Word Length')\n",
        "plt.ylabel('Frequency')\n",
        "plt.show()"
      ]
    },
    {
      "cell_type": "code",
      "execution_count": null,
      "metadata": {
        "colab": {
          "base_uri": "https://localhost:8080/",
          "height": 564
        },
        "id": "fRg6iUx_MPpK",
        "outputId": "2fefa239-e1d4-4a98-8a6a-e7f86d07ed25"
      },
      "outputs": [],
      "source": [
        "# Concept Complexity (assuming longer concepts are more complex)\n",
        "concept_lengths = [len(concept.split()) for lesson in all_lessons for concept in lesson.get('concepts', [])]\n",
        "plt.figure(figsize=(12, 6))\n",
        "sns.histplot(concept_lengths, kde=True, bins=20)\n",
        "plt.title('Distribution of Concept Complexity')\n",
        "plt.xlabel('Number of Words in Concept')\n",
        "plt.ylabel('Frequency')\n",
        "plt.show()"
      ]
    },
    {
      "cell_type": "code",
      "execution_count": null,
      "metadata": {
        "colab": {
          "base_uri": "https://localhost:8080/",
          "height": 564
        },
        "id": "5guNfFEOLoQC",
        "outputId": "d7fc779a-0283-4b66-e944-b84ab0840274"
      },
      "outputs": [],
      "source": [
        "# Phrase length distribution\n",
        "all_phrases = flatten([lesson.get('phrases', []) for lesson in all_lessons])\n",
        "phrase_lengths = [len(phrase.split()) for phrase in all_phrases]\n",
        "plt.figure(figsize=(12, 6))\n",
        "sns.histplot(phrase_lengths, kde=True, bins=20)\n",
        "plt.title('Distribution of Phrase Lengths')\n",
        "plt.xlabel('Phrase Length (words)')\n",
        "plt.ylabel('Frequency')\n",
        "plt.show()"
      ]
    },
    {
      "cell_type": "markdown",
      "metadata": {
        "id": "Mjua_NKDN_t5"
      },
      "source": [
        "# Word/Concept/Phrase Analysis\n",
        "\n"
      ]
    },
    {
      "cell_type": "code",
      "execution_count": null,
      "metadata": {
        "colab": {
          "base_uri": "https://localhost:8080/",
          "height": 607
        },
        "id": "sn271ueBLNly",
        "outputId": "c8770e82-eae1-422f-e90c-521db92be386"
      },
      "outputs": [],
      "source": [
        "# Word frequency across all lessons\n",
        "all_words = flatten([lesson.get('words', []) for lesson in all_lessons])\n",
        "word_freq = Counter(all_words)\n",
        "plt.figure(figsize=(12, 6))\n",
        "plt.bar(word_freq.keys(), word_freq.values())\n",
        "plt.title('Word Frequency Across All Lessons')\n",
        "plt.xlabel('Words')\n",
        "plt.ylabel('Frequency')\n",
        "plt.xticks(rotation=90)\n",
        "plt.tight_layout()\n",
        "plt.show()"
      ]
    },
    {
      "cell_type": "code",
      "execution_count": null,
      "metadata": {
        "colab": {
          "base_uri": "https://localhost:8080/",
          "height": 607
        },
        "id": "lcODNZDaMNBe",
        "outputId": "4b21b769-8f5e-49b2-c01f-e9e36230f88e"
      },
      "outputs": [],
      "source": [
        "# Top 20 Most Common Words\n",
        "all_words = [word for lesson in all_lessons for word in lesson.get('words', [])]\n",
        "word_freq = Counter(all_words)\n",
        "plt.figure(figsize=(12, 6))\n",
        "pd.Series(word_freq).nlargest(20).plot(kind='bar')\n",
        "plt.title('Top 20 Most Common Words')\n",
        "plt.xlabel('Words')\n",
        "plt.ylabel('Frequency')\n",
        "plt.xticks(rotation=45, ha='right')\n",
        "plt.tight_layout()\n",
        "plt.show()"
      ]
    },
    {
      "cell_type": "code",
      "execution_count": null,
      "metadata": {
        "colab": {
          "base_uri": "https://localhost:8080/",
          "height": 607
        },
        "id": "3PFqcSFBMYFs",
        "outputId": "6e9aa89e-7c5e-4053-8784-c4dc8e3d9a82"
      },
      "outputs": [],
      "source": [
        "# Concept Frequency Across Lessons\n",
        "all_concepts = [concept for lesson in all_lessons for concept in lesson.get('concepts', [])]\n",
        "concept_freq = Counter(all_concepts)\n",
        "plt.figure(figsize=(12, 6))\n",
        "pd.Series(concept_freq).nlargest(20).plot(kind='bar')\n",
        "plt.title('Top 20 Most Frequent Concepts')\n",
        "plt.xlabel('Concepts')\n",
        "plt.ylabel('Frequency')\n",
        "plt.xticks(rotation=45, ha='right')\n",
        "plt.tight_layout()\n",
        "plt.show()"
      ]
    },
    {
      "cell_type": "code",
      "execution_count": null,
      "metadata": {
        "colab": {
          "base_uri": "https://localhost:8080/",
          "height": 607
        },
        "id": "i4r2h87rMbxr",
        "outputId": "66317191-a8e9-4440-a9f0-778b30f5ab0a"
      },
      "outputs": [],
      "source": [
        "# Phrase Types (based on first word)\n",
        "phrase_types = [phrase.split()[0].lower() for phrase in all_phrases]\n",
        "plt.figure(figsize=(12, 6))\n",
        "pd.Series(Counter(phrase_types)).nlargest(10).plot(kind='bar')\n",
        "plt.title('Top 10 Phrase Types (Based on First Word)')\n",
        "plt.xlabel('First Word of Phrase')\n",
        "plt.ylabel('Frequency')\n",
        "plt.xticks(rotation=45, ha='right')\n",
        "plt.tight_layout()\n",
        "plt.show()"
      ]
    },
    {
      "cell_type": "code",
      "execution_count": null,
      "metadata": {
        "colab": {
          "base_uri": "https://localhost:8080/",
          "height": 444
        },
        "id": "Rr1an0fdLly4",
        "outputId": "5b8c348b-cdc6-49fd-f539-93cfcbfdd80b"
      },
      "outputs": [],
      "source": [
        "# Word cloud of all words\n",
        "wordcloud = WordCloud(width=800, height=400, background_color='white').generate(' '.join(all_words))\n",
        "plt.figure(figsize=(10, 5))\n",
        "plt.imshow(wordcloud, interpolation='bilinear')\n",
        "plt.axis('off')\n",
        "plt.title('Word Cloud of All Words')\n",
        "plt.show()"
      ]
    },
    {
      "cell_type": "code",
      "execution_count": null,
      "metadata": {
        "colab": {
          "base_uri": "https://localhost:8080/",
          "height": 444
        },
        "id": "I7ZFATvnMG-q",
        "outputId": "3ce2f40a-3827-41f8-fe29-e19ec3041f04"
      },
      "outputs": [],
      "source": [
        "# Concept Types Word Cloud\n",
        "all_concepts = [concept for lesson in all_lessons for concept in lesson.get('concepts', [])]\n",
        "wordcloud = WordCloud(width=800, height=400, background_color='white').generate(' '.join(all_concepts))\n",
        "plt.figure(figsize=(10, 5))\n",
        "plt.imshow(wordcloud, interpolation='bilinear')\n",
        "plt.axis('off')\n",
        "plt.title('Word Cloud of Concepts')\n",
        "plt.show()"
      ]
    },
    {
      "cell_type": "code",
      "execution_count": null,
      "metadata": {
        "colab": {
          "base_uri": "https://localhost:8080/",
          "height": 722
        },
        "id": "r89q68UrLi9d",
        "outputId": "abedc02e-5070-4e2d-c31b-ff34e16134d9"
      },
      "outputs": [],
      "source": [
        "# Concept similarity across lessons\n",
        "topic_texts = [topic['topic'] for topic in data]\n",
        "vectorizer = CountVectorizer().fit_transform(topic_texts)\n",
        "cosine_sim = cosine_similarity(vectorizer)\n",
        "\n",
        "plt.figure(figsize=(10, 8))\n",
        "sns.heatmap(cosine_sim, annot=False, cmap='YlGnBu')\n",
        "plt.title('Topic Similarity Throughout Course')\n",
        "plt.xlabel('Topic Number')\n",
        "plt.ylabel('Topic Number')\n",
        "plt.show()"
      ]
    },
    {
      "cell_type": "markdown",
      "metadata": {
        "id": "EtCHCnSiOIaS"
      },
      "source": [
        "# Review Items Analysis"
      ]
    },
    {
      "cell_type": "code",
      "execution_count": null,
      "metadata": {
        "colab": {
          "base_uri": "https://localhost:8080/",
          "height": 504
        },
        "id": "vNF7ktfjLuWG",
        "outputId": "acad0460-e3b8-47eb-a620-4b7ea5b16084"
      },
      "outputs": [],
      "source": [
        "# Helper function to get review items\n",
        "def get_review_items(lesson, item_type):\n",
        "    return lesson.get(f'{item_type}ToReview', [])\n",
        "\n",
        "# Collect review data\n",
        "review_data = []\n",
        "for i, lesson in enumerate(normal_lessons, 1):\n",
        "    words = get_review_items(lesson, 'words')\n",
        "    concepts = get_review_items(lesson, 'concepts')\n",
        "    phrases = get_review_items(lesson, 'phrases')\n",
        "    review_data.append({\n",
        "        'lesson': i,\n",
        "        'words': len(words),\n",
        "        'concepts': len(concepts),\n",
        "        'phrases': len(phrases),\n",
        "        'total': len(words) + len(concepts) + len(phrases)\n",
        "    })\n",
        "\n",
        "# Create a DataFrame\n",
        "df = pd.DataFrame(review_data)\n",
        "\n",
        "# Number of review items per lesson\n",
        "plt.figure(figsize=(12, 6))\n",
        "df.plot(x='lesson', y=['words', 'concepts', 'phrases'], kind='bar', stacked=True)\n",
        "plt.title('Number of Review Items per Lesson')\n",
        "plt.xlabel('Lesson Number')\n",
        "plt.ylabel('Number of Review Items')\n",
        "plt.legend(title='Item Type')\n",
        "plt.tight_layout()\n",
        "plt.show()"
      ]
    },
    {
      "cell_type": "code",
      "execution_count": null,
      "metadata": {
        "colab": {
          "base_uri": "https://localhost:8080/",
          "height": 675
        },
        "id": "tYFGLl3iL23_",
        "outputId": "1cd9c8f4-d597-45ac-8da5-03c2f4f88c8c"
      },
      "outputs": [],
      "source": [
        "# Distribution of review item types\n",
        "plt.figure(figsize=(8, 8))\n",
        "plt.pie(df[['words', 'concepts', 'phrases']].sum(), labels=['Words', 'Concepts', 'Phrases'], autopct='%1.1f%%')\n",
        "plt.title('Distribution of Review Item Types')\n",
        "plt.show()"
      ]
    },
    {
      "cell_type": "code",
      "execution_count": null,
      "metadata": {
        "colab": {
          "base_uri": "https://localhost:8080/",
          "height": 718
        },
        "id": "zjlTDPmKL6pO",
        "outputId": "4678a020-f8fc-4876-ac3b-4db03be10b44"
      },
      "outputs": [],
      "source": [
        "# Heatmap of review items across lessons\n",
        "plt.figure(figsize=(12, 8))\n",
        "sns.heatmap(df[['words', 'concepts', 'phrases']], cmap='YlOrRd', annot=True, fmt='d')\n",
        "plt.title('Heatmap of Review Items Across Lessons')\n",
        "plt.xlabel('Item Type')\n",
        "plt.ylabel('Lesson Number')\n",
        "plt.show()"
      ]
    },
    {
      "cell_type": "code",
      "execution_count": null,
      "metadata": {
        "colab": {
          "base_uri": "https://localhost:8080/",
          "height": 564
        },
        "id": "kkQXLeVGL_Bv",
        "outputId": "3bb063c7-30e6-4696-faad-fd315aac0a29"
      },
      "outputs": [],
      "source": [
        "# Cumulative review items over lessons\n",
        "plt.figure(figsize=(12, 6))\n",
        "df['cumulative_total'] = df['total'].cumsum()\n",
        "plt.plot(df['lesson'], df['cumulative_total'], marker='o')\n",
        "plt.title('Cumulative Review Items Over Lessons')\n",
        "plt.xlabel('Lesson Number')\n",
        "plt.ylabel('Cumulative Number of Review Items')\n",
        "plt.show()"
      ]
    },
    {
      "cell_type": "code",
      "execution_count": null,
      "metadata": {
        "colab": {
          "base_uri": "https://localhost:8080/",
          "height": 668
        },
        "id": "qvv5ryHPMCTa",
        "outputId": "a87b53bc-1916-4bfc-9886-8f991e00efc7"
      },
      "outputs": [],
      "source": [
        "# Review density across lessons\n",
        "plt.figure(figsize=(12, 6))\n",
        "sns.kdeplot(data=df, x='lesson', y='total', cmap='YlOrRd', shade=True)\n",
        "plt.title('Review Density Across Lessons')\n",
        "plt.xlabel('Lesson Number')\n",
        "plt.ylabel('Number of Review Items')\n",
        "plt.show()"
      ]
    }
  ],
  "metadata": {
    "colab": {
      "collapsed_sections": [
        "Ad5XuAfQNwVC"
      ],
      "provenance": []
    },
    "kernelspec": {
      "display_name": "Python 3",
      "name": "python3"
    },
    "language_info": {
      "codemirror_mode": {
        "name": "ipython",
        "version": 3
      },
      "file_extension": ".py",
      "mimetype": "text/x-python",
      "name": "python",
      "nbconvert_exporter": "python",
      "pygments_lexer": "ipython3",
      "version": "3.13.1"
    }
  },
  "nbformat": 4,
  "nbformat_minor": 0
}
